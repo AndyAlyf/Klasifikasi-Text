{
 "cells": [
  {
   "cell_type": "code",
   "execution_count": 19,
   "metadata": {},
   "outputs": [
    {
     "name": "stdin",
     "output_type": "stream",
     "text": [
      "masukkan direktori yang ingin dibaca:  finance/aksi-massa-22-mei-reda-spbu-jalan-mas-mansyur-buka-besok.txt\n"
     ]
    },
    {
     "name": "stdout",
     "output_type": "stream",
     "text": [
      "['stasiun', 'isi', 'bahan', 'bakar', 'spbu', 'jalan', 'kh', 'mas', 'mansyur', 'jakarta', 'pusat', 'operasi', 'besok', 'jumat', 'spbu', 'susul', 'spbu', 'jalan', 'ks', 'tubun', 'operasi', 'spbu', 'tutup', 'rusuh', 'massa', 'aksi', 'mei', 'iya', 'besok', 'buka', 'ks', 'tubun', 'unit', 'manager', 'communication', 'relations', 'csr', 'pertamina', 'mor', 'iii', 'dewi', 'sri', 'utami', 'kamis', 'spbu', 'jalan', 'mas', 'mansyur', 'buka', 'akses', 'jalan', 'normal', 'pasca', 'rusuh', 'mei', 'jalan', 'normal', 'spbu', 'jam', 'buka', 'besok', 'spbu', 'mas', 'mansyur', 'besok', 'dewi', 'operasi', 'spbu', 'tutup', 'akses', 'jaga', 'aman', 'sarana', 'fasilitas', 'stok', 'spbu', 'wilayah', 'cukup', 'alternatif', 'masyarakat', 'penuh', 'butuh', 'bbm', 'nya']\n"
     ]
    }
   ],
   "source": [
    "import math \n",
    "import os\n",
    "from collections import OrderedDict\n",
    "import re\n",
    "import string\n",
    "from Sastrawi.Stemmer.StemmerFactory import StemmerFactory\n",
    "\n",
    "#preprocessing\n",
    "\n",
    "def parsing(dokumen):\n",
    "    stopword = open(\"stopword.txt\",\"r\").read().split(\"\\n\")\n",
    "    dokumen = dokumen.lower().split()\n",
    "    dokumen = [kata for kata in dokumen if kata not in stopword]\n",
    "#     print(dokumen)\n",
    "    return dokumen\n",
    "def cleaning(dokumen):\n",
    "    tandabaca = string.punctuation\n",
    "    domain = re.compile(r'[\\S]+\\.(net|com|org)[\\S]*\\s?')\n",
    "    dokumenproses = dokumen.strip()\n",
    "    dokumenproses = domain.sub('',dokumenproses)\n",
    "    hasil = ''\n",
    "    for i,karakter in enumerate(dokumenproses):\n",
    "        if (karakter in tandabaca or karakter.isnumeric()):\n",
    "            if (i != len(dokumenproses)-1):\n",
    "                nextkarakter = dokumenproses[i+1]\n",
    "                if (nextkarakter not in tandabaca and not nextkarakter.isnumeric() and nextkarakter != ' '):\n",
    "                    hasil += ' '\n",
    "        else:\n",
    "            hasil += karakter\n",
    "#     print(hasil)\n",
    "    return hasil\n",
    "\n",
    "# def type(dokumen):\n",
    "#     return list(OrderedDict(kata,None)for kata in dokumen).keys()\n",
    "\n",
    "def stemming(dokumen):\n",
    "#     print([createstr.stem(kata) for kata in dokumen if kata and kata.isascii()])\n",
    "    return [StemmerFactory().create_stemmer().stem(kata) for kata in dokumen if kata and kata.isascii()]\n",
    "\n",
    "def preprocessing(dokumen):\n",
    "    return stemming(\n",
    "        parsing(\n",
    "            cleaning(dokumen)\n",
    "        )\n",
    "    )\n",
    "    \n",
    "def main():\n",
    "    direktori = input(\"masukkan direktori yang ingin dibaca: \")\n",
    "    if(direktori.lower().endswith(\".txt\")):\n",
    "        file = open(direktori,\"r\",encoding=\"ISO-8859-1\")\n",
    "        konten = file.read()\n",
    "        file.close()\n",
    "        hasil = preprocessing(konten)\n",
    "        print(hasil)\n",
    "    \n",
    "main()\n"
   ]
  },
  {
   "cell_type": "code",
   "execution_count": null,
   "metadata": {},
   "outputs": [],
   "source": []
  }
 ],
 "metadata": {
  "kernelspec": {
   "display_name": "Python 3",
   "language": "python",
   "name": "python3"
  },
  "language_info": {
   "codemirror_mode": {
    "name": "ipython",
    "version": 3
   },
   "file_extension": ".py",
   "mimetype": "text/x-python",
   "name": "python",
   "nbconvert_exporter": "python",
   "pygments_lexer": "ipython3",
   "version": "3.7.3"
  }
 },
 "nbformat": 4,
 "nbformat_minor": 4
}
