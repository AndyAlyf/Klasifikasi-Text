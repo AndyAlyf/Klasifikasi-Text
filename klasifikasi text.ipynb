{
 "cells": [
  {
   "cell_type": "code",
   "execution_count": 3,
   "metadata": {},
   "outputs": [
    {
     "name": "stdout",
     "output_type": "stream",
     "text": [
      "masukkan direktori yang ingin dibaca: harga-emas-antam-merosot-hari-ini-dijual-rp-766500gram.txt\n",
      "['logam', 'mulia', 'emas', 'batang', 'milik', 'pt', 'aneka', 'tambang', 'tbk', 'antam', 'jual', 'rp', 'gram', 'harga', 'turun', 'rp', 'posisi', 'sabtu', 'kemarin', 'rp', 'gram', 'kutip', 'situs', 'dagang', 'logam', 'mulia', 'antam', 'selasa', 'harga', 'catat', 'enam', 'harga', 'buyback', 'beli', 'emas', 'antam', 'rp', 'level', 'rp', 'gram', 'harga', 'buyback', 'jual', 'emas', 'antam', 'bel', 'harga', 'harga', 'emas', 'batang', 'pph', 'potong', 'pajak', 'rendah', 'bawa', 'npwp', 'transaksi', 'rincian', 'harga', 'emas', 'antam', 'pecah', 'gram', 'rp', 'pecah', 'gram', 'rp', 'pecah', 'gram', 'rp', 'pecah', 'gram', 'rp', 'pecah', 'gram', 'rp', 'pecah', 'gram', 'rp', 'pecah', 'gram', 'rp', 'pecah', 'gram', 'rp']\n"
     ]
    }
   ],
   "source": [
    "import math \n",
    "import os\n",
    "from collections import OrderedDict\n",
    "import re\n",
    "import string\n",
    "from Sastrawi.Stemmer.StemmerFactory import StemmerFactory\n",
    "\n",
    "#preprocessing\n",
    "\n",
    "def parsing(dokumen):\n",
    "    stopword = open(\"stopword.txt\",\"r\").read().split(\"\\n\")\n",
    "    dokumen = dokumen.lower().split()\n",
    "    dokumen = [kata for kata in dokumen if kata not in stopword]\n",
    "#     print(dokumen)\n",
    "    return dokumen\n",
    "def cleaning(dokumen):\n",
    "    tandabaca = string.punctuation\n",
    "    domain = re.compile(r'[\\S]+\\.(net|com|org)[\\S]*\\s?')\n",
    "    dokumenproses = dokumen.strip()\n",
    "    dokumenproses = domain.sub('',dokumenproses)\n",
    "    hasil = ''\n",
    "    for i,karakter in enumerate(dokumenproses):\n",
    "        if (karakter in tandabaca or karakter.isnumeric()):\n",
    "            if (i != len(dokumenproses)-1):\n",
    "                nextkarakter = dokumenproses[i+1]\n",
    "                if (nextkarakter not in tandabaca and not nextkarakter.isnumeric() and nextkarakter != ' '):\n",
    "                    hasil += ' '\n",
    "        else:\n",
    "            hasil += karakter\n",
    "#     print(hasil)\n",
    "    return hasil\n",
    "\n",
    "# def type(dokumen):\n",
    "#     return list(OrderedDict(kata,None)for kata in dokumen).keys()\n",
    "\n",
    "def stemming(dokumen):\n",
    "#     print([createstr.stem(kata) for kata in dokumen if kata and kata.isascii()])\n",
    "    return [StemmerFactory().create_stemmer().stem(kata) for kata in dokumen if kata and kata.isascii()]\n",
    "\n",
    "def preprocessing(dokumen):\n",
    "    return stemming(\n",
    "        parsing(\n",
    "            cleaning(dokumen)\n",
    "        )\n",
    "    )\n",
    "    \n",
    "def main():\n",
    "    direktori = input(\"masukkan direktori yang ingin dibaca: \")\n",
    "    if(direktori.lower().endswith(\".txt\")):\n",
    "        file = open(direktori,\"r\",encoding=\"ISO-8859-1\")\n",
    "        konten = file.read()\n",
    "        file.close()\n",
    "        hasil = preprocessing(konten)\n",
    "        print(hasil)\n",
    "    \n",
    "main()\n"
   ]
  },
  {
   "cell_type": "code",
   "execution_count": null,
   "metadata": {},
   "outputs": [],
   "source": []
  }
 ],
 "metadata": {
  "kernelspec": {
   "display_name": "Python 3",
   "language": "python",
   "name": "python3"
  },
  "language_info": {
   "codemirror_mode": {
    "name": "ipython",
    "version": 3
   },
   "file_extension": ".py",
   "mimetype": "text/x-python",
   "name": "python",
   "nbconvert_exporter": "python",
   "pygments_lexer": "ipython3",
   "version": "3.7.4"
  }
 },
 "nbformat": 4,
 "nbformat_minor": 4
}
