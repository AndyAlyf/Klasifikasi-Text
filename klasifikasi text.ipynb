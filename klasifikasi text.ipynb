{
 "cells": [
  {
   "cell_type": "code",
   "execution_count": 1,
   "metadata": {},
   "outputs": [],
   "source": [
    "import math \n",
    "import os\n",
    "from collections import OrderedDict\n",
    "import re\n",
    "import string\n",
    "import datetime\n",
    "from Sastrawi.Stemmer.StemmerFactory import StemmerFactory\n",
    "\n",
    "#preprocessing\n",
    "\n",
    "class preprocessing:\n",
    "    def parsing(dokumen):\n",
    "        stopword = open(\"stopword.txt\",\"r\").read().split(\"\\n\")\n",
    "        dokumen = dokumen.lower().split()\n",
    "        dokumen = [kata for kata in dokumen if kata not in stopword]\n",
    "    #     print(dokumen)\n",
    "        return dokumen\n",
    "    def cleaning(dokumen):\n",
    "        tandabaca = string.punctuation\n",
    "        domain = re.compile(r'[\\S]+\\.(net|com|org)[\\S]*\\s?')\n",
    "        dokumenproses = dokumen.strip()\n",
    "        dokumenproses = domain.sub('',dokumenproses)\n",
    "        hasil = ''\n",
    "        for i,karakter in enumerate(dokumenproses):\n",
    "            if (karakter in tandabaca or karakter.isnumeric()):\n",
    "                if (i != len(dokumenproses)-1):\n",
    "                    nextkarakter = dokumenproses[i+1]\n",
    "                    if (nextkarakter not in tandabaca and not nextkarakter.isnumeric() and nextkarakter != ' '):\n",
    "                        hasil += ' '\n",
    "            else:\n",
    "                hasil += karakter\n",
    "    #     print(hasil)\n",
    "        return hasil\n",
    "\n",
    "    # def type(dokumen):\n",
    "    #     return list(OrderedDict(kata,None)for kata in dokumen).keys()\n",
    "\n",
    "    def stemming(dokumen):\n",
    "    #     print([createstr.stem(kata) for kata in dokumen if kata and kata.isascii()])\n",
    "        return [StemmerFactory().create_stemmer().stem(kata) for kata in dokumen if kata and kata.isascii()]\n",
    "\n",
    "    def preprocess(dokumen):\n",
    "        return preprocessing.stemming(\n",
    "            preprocessing.parsing(\n",
    "                preprocessing.cleaning(dokumen)\n",
    "            )\n",
    "        )\n",
    "\n",
    "\n",
    "\n"
   ]
  },
  {
   "cell_type": "code",
   "execution_count": 41,
   "metadata": {},
   "outputs": [],
   "source": [
    "class weighting:\n",
    "    def __init__(self):\n",
    "        self.dokumens = []\n",
    "        self.fitur = []\n",
    "        self.bobot_tf = []\n",
    "    def setdokumen(self,dokumens):\n",
    "        self.dokumens = dokumens\n",
    "    def getfitur(self):\n",
    "        self.fitur = list(OrderedDict((kata,None)for dokumen in self.dokumens for kata in dokumen).keys())\n",
    "        return self.fitur\n",
    "    def getbobot_tf(self):\n",
    "        self.bobot_tf = [[dokumen.count(fitur)for dokumen in self.dokumens] for fitur in self.getfitur()]\n",
    "        return self.bobot_tf\n",
    "    def normalisasi(bobot_tf_2d):\n",
    "        transpose = [[bobot_tf_2d [j][i]for j in range (len(bobot_tf_2d))]for i in range (len(bobot_tf_2d[0]))]\n",
    "        for i,raw in enumerate (bobot_tf_2d):\n",
    "            pembagi = math.sqrt(sum(math.pow(element,2)for element in raw))\n",
    "            bobot_tf_2d[i] = [element/pembagi for element in raw]\n",
    "        arr = [[bobot_tf_2d[j][i]for j in range (len(bobot_tf_2d))]for i in range (len(bobot_tf_2d[0]))]\n",
    "#         print(arr)\n",
    "        return arr\n",
    "        \n",
    "        "
   ]
  },
  {
   "cell_type": "code",
   "execution_count": 44,
   "metadata": {},
   "outputs": [],
   "source": [
    "import numpy as np\n",
    "class main:\n",
    "    def main():\n",
    "        print(\"mulai\",datetime.datetime.now())        \n",
    "        path = input('Masukkan folder txt')\n",
    "#         kalo mau pakai oop harus diinstansiasi\n",
    "        cls = weighting()\n",
    "        cls.setdokumen([\n",
    "            preprocessing.preprocess(\n",
    "                open(path + '/' + filename, 'r', encoding=\"ISO-8859-1\").read()\n",
    "            )\n",
    "            for filename in os.listdir(path)\n",
    "            if filename.lower().endswith('.txt') and not filename.startswith('._')\n",
    "        ])\n",
    "        print(cls.getfitur())\n",
    "        print(cls.getbobot_tf())\n",
    "        arr = cls.getbobot_tf()\n",
    "        print(weighting.normalisasi(arr))\n",
    "        print(\"selesai\",datetime.datetime.now())"
   ]
  },
  {
   "cell_type": "code",
   "execution_count": 45,
   "metadata": {},
   "outputs": [
    {
     "name": "stdout",
     "output_type": "stream",
     "text": [
      "mulai 2020-02-21 16:24:24.819805\n"
     ]
    },
    {
     "name": "stdin",
     "output_type": "stream",
     "text": [
      "Masukkan folder txt test\n"
     ]
    },
    {
     "name": "stdout",
     "output_type": "stream",
     "text": [
      "['dagang', 'makan', 'cekat', 'olah', 'cuci', 'piring', 'video', 'orang', 'india', 'kagum', 'intip', 'jarangnontontv', 'jual', 'unik', 'nilai', 'jorok', 'netizen', 'salut', 'bak', 'isi', 'air', 'sabun', 'warna', 'kuning', 'lempar', 'wadah', 'bersih', 'bahan', 'keramik', 'melamin', 'kir', 'bawang', 'merah', 'perkara', 'mudah', 'milik', 'kandung', 'sulfoxide', 'hasil', 'gas', 'mata', 'perih', 'pria', 'bantu', 'bilah', 'pisau', 'tajam', 'taruh', 'posisi', 'diri', 'tegak', 'gesek', 'hitung', 'detik', 'iris', 'tipis', 'komentar', 'eh', 'ngilu', 'kena', 'tangan', 'tulis', 'w', 'abdillah', 'heran', 'cepat', 'ngemil', 'siang', 'gimana', 'bakso', 'goreng', 'gurih', 'enak', 'nikmat', 'cabai', 'rawit', 'cuaca', 'dingin', 'gerimis', 'santa', 'rumah', 'malas', 'bikin', 'camil', 'tau', 'sulit', 'buat', 'siap', 'sederhana', 'campur', 'bahanuntuk', 'buah', 'gr', 'daging', 'ayam', 'giling', 'butir', 'telur', 'sdm', 'tepung', 'sagu', 'terigu', 'garam', 'daun', 'cabe', 'belah', 'tahubelah', 'segi', 'keruk', 'putih', 'masuk', 'adon', 'adonancampurkan', 'kerukan', 'aduk', 'tambah', 'tekstur', 'lembut', 'kukus', 'tahusebelum', 'laku', 'habis', 'matang', 'menit', 'angkat', 'sisih', 'saji', 'kocok', 'celup', 'dalam', 'minyak', 'panas', 'cokelat', 'santap', 'hangat']\n",
      "[[1, 0], [3, 0], [1, 0], [1, 0], [3, 0], [5, 0], [3, 0], [3, 0], [2, 0], [2, 0], [1, 0], [1, 0], [1, 0], [1, 0], [1, 0], [1, 0], [3, 0], [1, 0], [1, 0], [2, 0], [3, 2], [1, 0], [1, 0], [1, 0], [1, 0], [1, 0], [1, 0], [1, 1], [1, 0], [1, 0], [4, 0], [7, 2], [6, 1], [1, 0], [2, 0], [1, 0], [1, 0], [1, 0], [1, 0], [1, 0], [1, 0], [1, 0], [2, 0], [1, 0], [1, 0], [2, 0], [1, 0], [1, 0], [1, 0], [1, 0], [1, 0], [1, 0], [1, 0], [1, 0], [1, 0], [1, 0], [1, 0], [1, 0], [1, 0], [1, 0], [1, 0], [1, 0], [1, 0], [1, 0], [2, 0], [1, 0], [0, 2], [0, 1], [0, 1], [0, 5], [0, 6], [0, 1], [0, 4], [0, 2], [0, 3], [0, 2], [0, 1], [0, 1], [0, 1], [0, 1], [0, 1], [0, 1], [0, 1], [0, 1], [0, 1], [0, 1], [0, 1], [0, 2], [0, 1], [0, 1], [0, 1], [0, 1], [0, 1], [0, 2], [0, 2], [0, 2], [0, 1], [0, 2], [0, 2], [0, 4], [0, 2], [0, 2], [0, 2], [0, 2], [0, 1], [0, 1], [0, 1], [0, 1], [0, 1], [0, 1], [0, 2], [0, 2], [0, 1], [0, 1], [0, 1], [0, 1], [0, 1], [0, 1], [0, 3], [0, 1], [0, 1], [0, 1], [0, 1], [0, 1], [0, 1], [0, 1], [0, 1], [0, 1], [0, 1], [0, 1], [0, 1], [0, 1], [0, 1], [0, 1], [0, 2]]\n",
      "[[1.0, 1.0, 1.0, 1.0, 1.0, 1.0, 1.0, 1.0, 1.0, 1.0, 1.0, 1.0, 1.0, 1.0, 1.0, 1.0, 1.0, 1.0, 1.0, 1.0, 0.8320502943378437, 1.0, 1.0, 1.0, 1.0, 1.0, 1.0, 0.7071067811865475, 1.0, 1.0, 1.0, 0.9615239476408232, 0.9863939238321437, 1.0, 1.0, 1.0, 1.0, 1.0, 1.0, 1.0, 1.0, 1.0, 1.0, 1.0, 1.0, 1.0, 1.0, 1.0, 1.0, 1.0, 1.0, 1.0, 1.0, 1.0, 1.0, 1.0, 1.0, 1.0, 1.0, 1.0, 1.0, 1.0, 1.0, 1.0, 1.0, 1.0, 0.0, 0.0, 0.0, 0.0, 0.0, 0.0, 0.0, 0.0, 0.0, 0.0, 0.0, 0.0, 0.0, 0.0, 0.0, 0.0, 0.0, 0.0, 0.0, 0.0, 0.0, 0.0, 0.0, 0.0, 0.0, 0.0, 0.0, 0.0, 0.0, 0.0, 0.0, 0.0, 0.0, 0.0, 0.0, 0.0, 0.0, 0.0, 0.0, 0.0, 0.0, 0.0, 0.0, 0.0, 0.0, 0.0, 0.0, 0.0, 0.0, 0.0, 0.0, 0.0, 0.0, 0.0, 0.0, 0.0, 0.0, 0.0, 0.0, 0.0, 0.0, 0.0, 0.0, 0.0, 0.0, 0.0, 0.0, 0.0, 0.0], [0.0, 0.0, 0.0, 0.0, 0.0, 0.0, 0.0, 0.0, 0.0, 0.0, 0.0, 0.0, 0.0, 0.0, 0.0, 0.0, 0.0, 0.0, 0.0, 0.0, 0.5547001962252291, 0.0, 0.0, 0.0, 0.0, 0.0, 0.0, 0.7071067811865475, 0.0, 0.0, 0.0, 0.27472112789737807, 0.1643989873053573, 0.0, 0.0, 0.0, 0.0, 0.0, 0.0, 0.0, 0.0, 0.0, 0.0, 0.0, 0.0, 0.0, 0.0, 0.0, 0.0, 0.0, 0.0, 0.0, 0.0, 0.0, 0.0, 0.0, 0.0, 0.0, 0.0, 0.0, 0.0, 0.0, 0.0, 0.0, 0.0, 0.0, 1.0, 1.0, 1.0, 1.0, 1.0, 1.0, 1.0, 1.0, 1.0, 1.0, 1.0, 1.0, 1.0, 1.0, 1.0, 1.0, 1.0, 1.0, 1.0, 1.0, 1.0, 1.0, 1.0, 1.0, 1.0, 1.0, 1.0, 1.0, 1.0, 1.0, 1.0, 1.0, 1.0, 1.0, 1.0, 1.0, 1.0, 1.0, 1.0, 1.0, 1.0, 1.0, 1.0, 1.0, 1.0, 1.0, 1.0, 1.0, 1.0, 1.0, 1.0, 1.0, 1.0, 1.0, 1.0, 1.0, 1.0, 1.0, 1.0, 1.0, 1.0, 1.0, 1.0, 1.0, 1.0, 1.0, 1.0, 1.0, 1.0]]\n",
      "selesai 2020-02-21 16:24:39.901927\n"
     ]
    }
   ],
   "source": [
    "main.main()"
   ]
  },
  {
   "cell_type": "code",
   "execution_count": null,
   "metadata": {},
   "outputs": [],
   "source": []
  },
  {
   "cell_type": "code",
   "execution_count": null,
   "metadata": {},
   "outputs": [],
   "source": []
  }
 ],
 "metadata": {
  "kernelspec": {
   "display_name": "Python 3",
   "language": "python",
   "name": "python3"
  },
  "language_info": {
   "codemirror_mode": {
    "name": "ipython",
    "version": 3
   },
   "file_extension": ".py",
   "mimetype": "text/x-python",
   "name": "python",
   "nbconvert_exporter": "python",
   "pygments_lexer": "ipython3",
   "version": "3.7.3"
  }
 },
 "nbformat": 4,
 "nbformat_minor": 4
}
